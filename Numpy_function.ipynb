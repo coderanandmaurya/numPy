{
  "nbformat": 4,
  "nbformat_minor": 0,
  "metadata": {
    "colab": {
      "name": "Numpy function.ipynb",
      "provenance": [],
      "authorship_tag": "ABX9TyPgAmcCnROPlFBp16FLgweq",
      "include_colab_link": true
    },
    "kernelspec": {
      "name": "python3",
      "display_name": "Python 3"
    },
    "language_info": {
      "name": "python"
    }
  },
  "cells": [
    {
      "cell_type": "markdown",
      "metadata": {
        "id": "view-in-github",
        "colab_type": "text"
      },
      "source": [
        "<a href=\"https://colab.research.google.com/github/coderanandmaurya/numPy/blob/main/Numpy_function.ipynb\" target=\"_parent\"><img src=\"https://colab.research.google.com/assets/colab-badge.svg\" alt=\"Open In Colab\"/></a>"
      ]
    },
    {
      "cell_type": "code",
      "execution_count": 109,
      "metadata": {
        "colab": {
          "base_uri": "https://localhost:8080/"
        },
        "id": "55vbvBzwqZMH",
        "outputId": "8ba6618f-8215-4f60-b792-7c2fe6fa3167"
      },
      "outputs": [
        {
          "output_type": "stream",
          "name": "stdout",
          "text": [
            "[2, 4, 6, 8, 10]\n",
            "[ 2  4  6  8 10]\n",
            "(5,)\n"
          ]
        }
      ],
      "source": [
        "import numpy as np\n",
        "\n",
        "a=[2,4,6,8,10]  # list 1D\n",
        "print(a)\n",
        "\n",
        "arr= np.array(a)  #one dimensional array as it has only 1 row\n",
        "print(arr) \n",
        "print(arr.shape)"
      ]
    },
    {
      "cell_type": "markdown",
      "source": [
        "## shape attribute"
      ],
      "metadata": {
        "id": "Ff94YGeTsM1W"
      }
    },
    {
      "cell_type": "code",
      "source": [
        "b= np.array([(1,2,3),(4,5,6)]) \n",
        "print(b)\n",
        "print(b.shape)# (no. of rows, no. of columns)"
      ],
      "metadata": {
        "colab": {
          "base_uri": "https://localhost:8080/"
        },
        "id": "d02twqB7sqM2",
        "outputId": "c2d869b4-243f-4fee-c3f7-2674281812c6"
      },
      "execution_count": 110,
      "outputs": [
        {
          "output_type": "stream",
          "name": "stdout",
          "text": [
            "[[1 2 3]\n",
            " [4 5 6]]\n",
            "(2, 3)\n"
          ]
        }
      ]
    },
    {
      "cell_type": "markdown",
      "source": [
        "## Reshape"
      ],
      "metadata": {
        "id": "_S58lB0Rsddc"
      }
    },
    {
      "cell_type": "code",
      "source": [
        "# reshape (r,c)   to reshape array\n",
        "d=b.reshape(6,1)\n",
        "d"
      ],
      "metadata": {
        "colab": {
          "base_uri": "https://localhost:8080/"
        },
        "id": "W9F8rS9osg2O",
        "outputId": "e04490db-c402-4205-c19a-f515c2d9e025"
      },
      "execution_count": 111,
      "outputs": [
        {
          "output_type": "execute_result",
          "data": {
            "text/plain": [
              "array([[1],\n",
              "       [2],\n",
              "       [3],\n",
              "       [4],\n",
              "       [5],\n",
              "       [6]])"
            ]
          },
          "metadata": {},
          "execution_count": 111
        }
      ]
    },
    {
      "cell_type": "markdown",
      "source": [
        "## ndim : ndim is used to check dimension of the array"
      ],
      "metadata": {
        "id": "zLKUH_wFqyRI"
      }
    },
    {
      "cell_type": "code",
      "source": [
        "print(arr.ndim)"
      ],
      "metadata": {
        "colab": {
          "base_uri": "https://localhost:8080/"
        },
        "id": "eHl8Kj14q2KX",
        "outputId": "defc9cb9-3a18-49bb-9d88-2f5b85a008b2"
      },
      "execution_count": 112,
      "outputs": [
        {
          "output_type": "stream",
          "name": "stdout",
          "text": [
            "1\n"
          ]
        }
      ]
    },
    {
      "cell_type": "markdown",
      "source": [
        "dtype() : # to check data type"
      ],
      "metadata": {
        "id": "yYnFKH5jrlFw"
      }
    },
    {
      "cell_type": "code",
      "source": [
        "a= np.array([(1.6,2.78,3.66)]) \n",
        "print(a.dtype) "
      ],
      "metadata": {
        "colab": {
          "base_uri": "https://localhost:8080/"
        },
        "id": "gyebUXdfq2m-",
        "outputId": "7cb6e825-37b6-4f83-c5a9-5b11f0c7e80f"
      },
      "execution_count": 113,
      "outputs": [
        {
          "output_type": "stream",
          "name": "stdout",
          "text": [
            "float64\n"
          ]
        }
      ]
    },
    {
      "cell_type": "markdown",
      "source": [
        "## size: to check the size of array"
      ],
      "metadata": {
        "id": "qrMBuY9jr7nW"
      }
    },
    {
      "cell_type": "code",
      "source": [
        "b= np.array([(1,2,3),(4,5,6),(22,44,55)])\n",
        "print(\"size of b is \",b.size)"
      ],
      "metadata": {
        "colab": {
          "base_uri": "https://localhost:8080/"
        },
        "id": "02lcKMagrs2c",
        "outputId": "8ea199b0-ebef-47cf-9e23-2745fd253287"
      },
      "execution_count": 114,
      "outputs": [
        {
          "output_type": "stream",
          "name": "stdout",
          "text": [
            "size of b is  9\n"
          ]
        }
      ]
    },
    {
      "cell_type": "markdown",
      "source": [
        "## Transpose"
      ],
      "metadata": {
        "id": "krWW6_9Js-D0"
      }
    },
    {
      "cell_type": "code",
      "source": [
        "b"
      ],
      "metadata": {
        "colab": {
          "base_uri": "https://localhost:8080/"
        },
        "id": "H4pahchFtD0T",
        "outputId": "b6cdad37-19fb-43d7-86e7-32ac6873f72f"
      },
      "execution_count": 115,
      "outputs": [
        {
          "output_type": "execute_result",
          "data": {
            "text/plain": [
              "array([[ 1,  2,  3],\n",
              "       [ 4,  5,  6],\n",
              "       [22, 44, 55]])"
            ]
          },
          "metadata": {},
          "execution_count": 115
        }
      ]
    },
    {
      "cell_type": "code",
      "source": [
        "tt=np.transpose(b)  # it convert rows into column and via versa\n",
        "tt"
      ],
      "metadata": {
        "colab": {
          "base_uri": "https://localhost:8080/"
        },
        "id": "rE3XHZnssDi3",
        "outputId": "448f4a3a-616c-42c2-b3af-06a3faa53ab7"
      },
      "execution_count": 116,
      "outputs": [
        {
          "output_type": "execute_result",
          "data": {
            "text/plain": [
              "array([[ 1,  4, 22],\n",
              "       [ 2,  5, 44],\n",
              "       [ 3,  6, 55]])"
            ]
          },
          "metadata": {},
          "execution_count": 116
        }
      ]
    },
    {
      "cell_type": "markdown",
      "source": [
        "## Linspace"
      ],
      "metadata": {
        "id": "3dqskZlgtO2D"
      }
    },
    {
      "cell_type": "code",
      "source": [
        "a= np.linspace(10,100,10)  # it generate array \n",
        "print(a)\n",
        "print(a.size)"
      ],
      "metadata": {
        "colab": {
          "base_uri": "https://localhost:8080/"
        },
        "id": "n_ndbqO6tRC6",
        "outputId": "5f9bb090-de8c-4cef-83cc-47a8958b80b3"
      },
      "execution_count": 117,
      "outputs": [
        {
          "output_type": "stream",
          "name": "stdout",
          "text": [
            "[ 10.  20.  30.  40.  50.  60.  70.  80.  90. 100.]\n",
            "10\n"
          ]
        }
      ]
    },
    {
      "cell_type": "markdown",
      "source": [
        "## Min and Max"
      ],
      "metadata": {
        "id": "RjevE8-ctdHS"
      }
    },
    {
      "cell_type": "code",
      "source": [
        "b= np.array([(1,2,3),(4,5,6)]) \n",
        "print(b)"
      ],
      "metadata": {
        "colab": {
          "base_uri": "https://localhost:8080/"
        },
        "id": "jt8k1jl1tSYL",
        "outputId": "4fbf504d-0f05-4531-8d2c-da84899905aa"
      },
      "execution_count": 118,
      "outputs": [
        {
          "output_type": "stream",
          "name": "stdout",
          "text": [
            "[[1 2 3]\n",
            " [4 5 6]]\n"
          ]
        }
      ]
    },
    {
      "cell_type": "code",
      "source": [
        "print(b.max(axis=0))  # axis=0 implies find max values column wise"
      ],
      "metadata": {
        "colab": {
          "base_uri": "https://localhost:8080/"
        },
        "id": "0GdkeIbWtfcP",
        "outputId": "afe701cc-69aa-4faa-b6ef-19a11774a434"
      },
      "execution_count": 119,
      "outputs": [
        {
          "output_type": "stream",
          "name": "stdout",
          "text": [
            "[4 5 6]\n"
          ]
        }
      ]
    },
    {
      "cell_type": "code",
      "source": [
        "print(b.max(axis=1))  # axis=1 implies find max values row wise"
      ],
      "metadata": {
        "colab": {
          "base_uri": "https://localhost:8080/"
        },
        "id": "HAmSApdRtkdl",
        "outputId": "2535065a-c301-4383-fbf1-6c45ec0c1aca"
      },
      "execution_count": 120,
      "outputs": [
        {
          "output_type": "stream",
          "name": "stdout",
          "text": [
            "[3 6]\n"
          ]
        }
      ]
    },
    {
      "cell_type": "markdown",
      "source": [
        "## sum with axis 0(columns) and 1(rows)"
      ],
      "metadata": {
        "id": "_Wqq82HYt8Ca"
      }
    },
    {
      "cell_type": "code",
      "source": [
        "b= np.array([(1,2,3),(4,5,6)])\n",
        "print(b)\n",
        "b.sum()\n",
        "print(\"col addition :\",b.sum(axis=0))  # column addition \n",
        "\n",
        "print(\"row additon :\",b.sum(axis=1))  # row addition \n",
        "\n",
        "#print(np.sum(b,axis=1))"
      ],
      "metadata": {
        "colab": {
          "base_uri": "https://localhost:8080/"
        },
        "id": "FzeDF9RvtmJo",
        "outputId": "39dc85ef-7642-4832-aab3-a70ac8487616"
      },
      "execution_count": 121,
      "outputs": [
        {
          "output_type": "stream",
          "name": "stdout",
          "text": [
            "[[1 2 3]\n",
            " [4 5 6]]\n",
            "col addition : [5 7 9]\n",
            "row additon : [ 6 15]\n"
          ]
        }
      ]
    },
    {
      "cell_type": "code",
      "source": [
        "b= np.array([4,25,9])  # 1D\n",
        "print(np.sqrt(b))# squareroot of items in array\n",
        "\n",
        "b= np.array([1,2,3])\n",
        "np.std(b)# it find the standard deviation of array b"
      ],
      "metadata": {
        "colab": {
          "base_uri": "https://localhost:8080/"
        },
        "id": "CoONB2vluBPY",
        "outputId": "f1219c7d-a0e6-424d-821d-6bfbed069ade"
      },
      "execution_count": 122,
      "outputs": [
        {
          "output_type": "stream",
          "name": "stdout",
          "text": [
            "[2. 5. 3.]\n"
          ]
        },
        {
          "output_type": "execute_result",
          "data": {
            "text/plain": [
              "0.816496580927726"
            ]
          },
          "metadata": {},
          "execution_count": 122
        }
      ]
    },
    {
      "cell_type": "markdown",
      "source": [
        "## addition, multiplication, divison and subtraction of 2 array"
      ],
      "metadata": {
        "id": "RFXd6P_wuhVS"
      }
    },
    {
      "cell_type": "code",
      "source": [
        "a=np.array([(9,8,6),(7,6,5)])\n",
        "b= np.array([(1,2,3),(4,5,6)])\n",
        "print(\"array A\")\n",
        "print(a)\n",
        "print(\"array B\")\n",
        "print(b)\n",
        "c=a+b  # addition of two arrays\n",
        "print(\"array C\")\n",
        "print(c)\n",
        "print(a*b)\n",
        "\n",
        "print(a/b)\n"
      ],
      "metadata": {
        "colab": {
          "base_uri": "https://localhost:8080/"
        },
        "id": "_4ZtwTO6ufPb",
        "outputId": "9f250b74-abb0-4160-c5f0-52a2fe4e59f8"
      },
      "execution_count": 123,
      "outputs": [
        {
          "output_type": "stream",
          "name": "stdout",
          "text": [
            "array A\n",
            "[[9 8 6]\n",
            " [7 6 5]]\n",
            "array B\n",
            "[[1 2 3]\n",
            " [4 5 6]]\n",
            "array C\n",
            "[[10 10  9]\n",
            " [11 11 11]]\n",
            "[[ 9 16 18]\n",
            " [28 30 30]]\n",
            "[[9.         4.         2.        ]\n",
            " [1.75       1.2        0.83333333]]\n"
          ]
        }
      ]
    },
    {
      "cell_type": "markdown",
      "source": [
        "## vertical stacking and horizontal stacking of arrays\n"
      ],
      "metadata": {
        "id": "HTsjvpRzunJ6"
      }
    },
    {
      "cell_type": "code",
      "source": [
        "#stack # LIFO:Last in first out\n",
        "# queue  # FIFO: First in First Out\n",
        "[1,2,3,4,4]\n",
        "\n",
        "a=np.array([(9,8,6),(7,6,5)])\n",
        "b= np.array([(1,2,3),(4,5,6)])\n",
        "print(a)\n",
        "print(b)\n",
        "print(np.vstack((a,b)))  # vertical stack "
      ],
      "metadata": {
        "colab": {
          "base_uri": "https://localhost:8080/"
        },
        "id": "qDtIoQrEunXq",
        "outputId": "795cb176-cf01-4cd8-9fc3-da53798ea455"
      },
      "execution_count": 124,
      "outputs": [
        {
          "output_type": "stream",
          "name": "stdout",
          "text": [
            "[[9 8 6]\n",
            " [7 6 5]]\n",
            "[[1 2 3]\n",
            " [4 5 6]]\n",
            "[[9 8 6]\n",
            " [7 6 5]\n",
            " [1 2 3]\n",
            " [4 5 6]]\n"
          ]
        }
      ]
    },
    {
      "cell_type": "code",
      "source": [
        "# horizontal stack \n",
        "a=np.array([(9,8,6),(7,6,5)])\n",
        "b= np.array([(1,2,3),(4,5,6)])\n",
        "\n",
        "print(a)\n",
        "print(b)\n",
        "print(np.hstack((a,b)))\n"
      ],
      "metadata": {
        "colab": {
          "base_uri": "https://localhost:8080/"
        },
        "id": "dd7rYHddusQl",
        "outputId": "0a86d028-104a-41e0-af5f-88b4ef29c732"
      },
      "execution_count": 125,
      "outputs": [
        {
          "output_type": "stream",
          "name": "stdout",
          "text": [
            "[[9 8 6]\n",
            " [7 6 5]]\n",
            "[[1 2 3]\n",
            " [4 5 6]]\n",
            "[[9 8 6 1 2 3]\n",
            " [7 6 5 4 5 6]]\n"
          ]
        }
      ]
    },
    {
      "cell_type": "markdown",
      "source": [
        "## Calculating exponentiall value of array"
      ],
      "metadata": {
        "id": "khdpXdNMwOBe"
      }
    },
    {
      "cell_type": "code",
      "source": [
        "a= np.array([1,2,3])\n",
        "\n",
        "print(np.exp(a))  # e*1 is 2.718 ,e*2 is 7.389 and so on\n",
        "print(a.shape)"
      ],
      "metadata": {
        "colab": {
          "base_uri": "https://localhost:8080/"
        },
        "id": "XW0MdkW1u-y6",
        "outputId": "94194db4-04a0-483d-fb84-159a32b34594"
      },
      "execution_count": 126,
      "outputs": [
        {
          "output_type": "stream",
          "name": "stdout",
          "text": [
            "[ 2.71828183  7.3890561  20.08553692]\n",
            "(3,)\n"
          ]
        }
      ]
    },
    {
      "cell_type": "code",
      "source": [
        "a=np.array([1,2,3])\n",
        "b=np.array([(9,8,6),(7,6,5)])\n",
        "\n",
        "print(a)\n",
        "print(np.exp(a))\n",
        "print(a.shape)"
      ],
      "metadata": {
        "colab": {
          "base_uri": "https://localhost:8080/"
        },
        "id": "iRAeNH3ruvRo",
        "outputId": "ea828ec7-c570-4c2b-efeb-55111cc87da9"
      },
      "execution_count": 127,
      "outputs": [
        {
          "output_type": "stream",
          "name": "stdout",
          "text": [
            "[1 2 3]\n",
            "[ 2.71828183  7.3890561  20.08553692]\n",
            "(3,)\n"
          ]
        }
      ]
    },
    {
      "cell_type": "markdown",
      "source": [
        "## Convert 2 d array into 1d array"
      ],
      "metadata": {
        "id": "pWj1MCh6u2rQ"
      }
    },
    {
      "cell_type": "code",
      "source": [
        "b=np.array([(9,8,6),(7,6,5)])\n",
        "print(b)\n",
        "print(b.shape)"
      ],
      "metadata": {
        "colab": {
          "base_uri": "https://localhost:8080/"
        },
        "id": "lCmvplQUu6JD",
        "outputId": "b753d722-6c58-49f5-f5f0-21fea40ae7e9"
      },
      "execution_count": 128,
      "outputs": [
        {
          "output_type": "stream",
          "name": "stdout",
          "text": [
            "[[9 8 6]\n",
            " [7 6 5]]\n",
            "(2, 3)\n"
          ]
        }
      ]
    },
    {
      "cell_type": "code",
      "source": [
        "ss=b.ravel() # it convert 2D array into 1D\n",
        "print(ss)\n",
        "print(ss.shape)"
      ],
      "metadata": {
        "colab": {
          "base_uri": "https://localhost:8080/"
        },
        "id": "UZwt1DzZxC8N",
        "outputId": "64081702-e92d-44ad-ca9c-603fedf88597"
      },
      "execution_count": 129,
      "outputs": [
        {
          "output_type": "stream",
          "name": "stdout",
          "text": [
            "[9 8 6 7 6 5]\n",
            "(6,)\n"
          ]
        }
      ]
    },
    {
      "cell_type": "markdown",
      "source": [
        "##by default argumement to convert 1D to 2D"
      ],
      "metadata": {
        "id": "5bV438S-wmoS"
      }
    },
    {
      "cell_type": "code",
      "source": [
        "a=np.array([1,2,3])\n",
        "b=a.reshape(-1,1)"
      ],
      "metadata": {
        "id": "qQh7DJYowoy-"
      },
      "execution_count": 130,
      "outputs": []
    },
    {
      "cell_type": "code",
      "source": [
        "print(a)\n",
        "a.ndim"
      ],
      "metadata": {
        "colab": {
          "base_uri": "https://localhost:8080/"
        },
        "id": "4fN61uXRxb9f",
        "outputId": "263a921b-b104-4ccd-c8d3-1e26e14533ad"
      },
      "execution_count": 131,
      "outputs": [
        {
          "output_type": "stream",
          "name": "stdout",
          "text": [
            "[1 2 3]\n"
          ]
        },
        {
          "output_type": "execute_result",
          "data": {
            "text/plain": [
              "1"
            ]
          },
          "metadata": {},
          "execution_count": 131
        }
      ]
    },
    {
      "cell_type": "code",
      "source": [
        "print(b)\n",
        "b.ndim"
      ],
      "metadata": {
        "colab": {
          "base_uri": "https://localhost:8080/"
        },
        "id": "kVB_2VISxb3O",
        "outputId": "9c72ad3f-5e3b-4e00-ef1a-a837e219485c"
      },
      "execution_count": 132,
      "outputs": [
        {
          "output_type": "stream",
          "name": "stdout",
          "text": [
            "[[1]\n",
            " [2]\n",
            " [3]]\n"
          ]
        },
        {
          "output_type": "execute_result",
          "data": {
            "text/plain": [
              "2"
            ]
          },
          "metadata": {},
          "execution_count": 132
        }
      ]
    },
    {
      "cell_type": "markdown",
      "source": [
        "# unique "
      ],
      "metadata": {
        "id": "cVuK4lmTwC6X"
      }
    },
    {
      "cell_type": "code",
      "source": [
        "marks=np.array([2,5,2,8,5,9,5,4,5])\n",
        "print(marks)\n",
        "uni=np.unique(marks)  # it will give u array of unique values in array marks\n",
        "print(uni)"
      ],
      "metadata": {
        "colab": {
          "base_uri": "https://localhost:8080/"
        },
        "id": "3HAZlvHbvH65",
        "outputId": "9d511d1a-c677-47a5-d9ec-30cccfcb0ebd"
      },
      "execution_count": 133,
      "outputs": [
        {
          "output_type": "stream",
          "name": "stdout",
          "text": [
            "[2 5 2 8 5 9 5 4 5]\n",
            "[2 4 5 8 9]\n"
          ]
        }
      ]
    },
    {
      "cell_type": "code",
      "source": [
        "#unique with count\n",
        "uni,count=np.unique(marks,return_counts=True)  # it will give u array of unique values in array marks\n",
        "print(count)"
      ],
      "metadata": {
        "colab": {
          "base_uri": "https://localhost:8080/"
        },
        "id": "BqMz6OQLv_93",
        "outputId": "43e02466-1a23-4774-d773-cea9738b1e75"
      },
      "execution_count": 134,
      "outputs": [
        {
          "output_type": "stream",
          "name": "stdout",
          "text": [
            "[2 1 4 1 1]\n"
          ]
        }
      ]
    },
    {
      "cell_type": "markdown",
      "source": [
        "## swapping of numbers "
      ],
      "metadata": {
        "id": "IT0EKQd7wTyV"
      }
    },
    {
      "cell_type": "code",
      "source": [
        "a=5\n",
        "b=7\n",
        "a,b=b,a\n",
        "print(a,b)"
      ],
      "metadata": {
        "colab": {
          "base_uri": "https://localhost:8080/"
        },
        "id": "UFJcDaEIvE5_",
        "outputId": "791979e3-85d5-4db1-f676-b476b0c70458"
      },
      "execution_count": 135,
      "outputs": [
        {
          "output_type": "stream",
          "name": "stdout",
          "text": [
            "7 5\n"
          ]
        }
      ]
    }
  ]
}