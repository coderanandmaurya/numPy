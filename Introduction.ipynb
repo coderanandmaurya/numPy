{
 "cells": [
  {
   "cell_type": "markdown",
   "id": "102acf75",
   "metadata": {},
   "source": [
    "# NumPy"
   ]
  },
  {
   "cell_type": "markdown",
   "id": "515a9a78",
   "metadata": {},
   "source": [
    "- NumPy stands for 'Numerical Python'. \n",
    "- It is a Python library which consist multidimensional array objects and collection of routines for processing of array."
   ]
  },
  {
   "cell_type": "markdown",
   "id": "e9f3f91f",
   "metadata": {},
   "source": [
    "## NumPy is fast\n",
    "- Numpy is also incredibly fast, as it has bindings to C libraries\n",
    "- NumPy Arrays are faster than Python Lists because of the following reasons: An array is a collection of homogeneous data-types that are stored in contiguous memory locations"
   ]
  },
  {
   "cell_type": "markdown",
   "id": "620c3ccb",
   "metadata": {},
   "source": [
    "## Numpy Arrays\n",
    "- NumPy arrays are of two types: \n",
    "    - vectors: Vectors are strictly 1-d arrays\n",
    "    - matrices: matrices are 2-d (but you should note a matrix can still have only one row or one column)."
   ]
  },
  {
   "cell_type": "markdown",
   "id": "bf5262f9",
   "metadata": {},
   "source": [
    "## List vs NumPy Arrays\n",
    "\n",
    "- In Python we have lists that serve the purpose of arrays, but they are slow to process. NumPy provide array object that is up to 50x faster than Python lists.\n",
    "\n",
    "- The array object in NumPy is called ndarray.\n"
   ]
  },
  {
   "cell_type": "markdown",
   "id": "5ea5153a",
   "metadata": {},
   "source": [
    "# Installation"
   ]
  },
  {
   "cell_type": "code",
   "execution_count": 1,
   "id": "0cdc5249",
   "metadata": {},
   "outputs": [
    {
     "name": "stdout",
     "output_type": "stream",
     "text": [
      "Requirement already satisfied: numpy in c:\\programdata\\anaconda3\\lib\\site-packages (1.20.3)\n",
      "Note: you may need to restart the kernel to use updated packages.\n"
     ]
    }
   ],
   "source": [
    "pip install numpy"
   ]
  },
  {
   "cell_type": "markdown",
   "id": "5c9f3820",
   "metadata": {},
   "source": [
    "## How to Use"
   ]
  },
  {
   "cell_type": "code",
   "execution_count": 2,
   "id": "4ff9c7c1",
   "metadata": {},
   "outputs": [],
   "source": [
    "import numpy\n",
    "\n",
    "import numpy as np"
   ]
  },
  {
   "cell_type": "markdown",
   "id": "37baeb10",
   "metadata": {},
   "source": [
    "## Creating NumPy Arrays"
   ]
  },
  {
   "cell_type": "code",
   "execution_count": 3,
   "id": "e39d4de2",
   "metadata": {},
   "outputs": [
    {
     "data": {
      "text/plain": [
       "[1, 2, 3, 4, 5]"
      ]
     },
     "execution_count": 3,
     "metadata": {},
     "output_type": "execute_result"
    }
   ],
   "source": [
    "# from Pyhton List\n",
    "my_list=[1,2,3,4,5]\n",
    "my_list"
   ]
  },
  {
   "cell_type": "code",
   "execution_count": 4,
   "id": "c6de7a50",
   "metadata": {},
   "outputs": [
    {
     "name": "stdout",
     "output_type": "stream",
     "text": [
      "[1 2 3 4 5]\n"
     ]
    },
    {
     "data": {
      "text/plain": [
       "numpy.ndarray"
      ]
     },
     "execution_count": 4,
     "metadata": {},
     "output_type": "execute_result"
    }
   ],
   "source": [
    "x=np.array(my_list)\n",
    "print(x)\n",
    "type(x)"
   ]
  },
  {
   "cell_type": "code",
   "execution_count": 5,
   "id": "ea8a3b26",
   "metadata": {},
   "outputs": [
    {
     "name": "stdout",
     "output_type": "stream",
     "text": [
      "[[   1    2    4   56   65 6778]\n",
      " [   1    2   40  156  615 6778]]\n"
     ]
    }
   ],
   "source": [
    "a=np.array([[1,2,4,56,65,6778],[1,2,40,156,615,6778]])\n",
    "print(a)"
   ]
  },
  {
   "cell_type": "markdown",
   "id": "6b3f1960",
   "metadata": {},
   "source": [
    "## NumPy array using nested list/matrix"
   ]
  },
  {
   "cell_type": "code",
   "execution_count": 6,
   "id": "28b7ef7d",
   "metadata": {},
   "outputs": [
    {
     "data": {
      "text/plain": [
       "[[5, 55, 555], [6, 66, 666], [7, 77, 777], [8, 88, 888]]"
      ]
     },
     "execution_count": 6,
     "metadata": {},
     "output_type": "execute_result"
    }
   ],
   "source": [
    "my_matrix = [[5,55,555],[6,66,666],[7,77,777],[8,88,888]]\n",
    "my_matrix"
   ]
  },
  {
   "cell_type": "code",
   "execution_count": 7,
   "id": "0b65bc5f",
   "metadata": {},
   "outputs": [
    {
     "name": "stdout",
     "output_type": "stream",
     "text": [
      "<class 'numpy.ndarray'>\n"
     ]
    }
   ],
   "source": [
    "a=np.array(my_matrix)\n",
    "print(type(a))"
   ]
  },
  {
   "cell_type": "code",
   "execution_count": 8,
   "id": "2d885218",
   "metadata": {},
   "outputs": [
    {
     "name": "stdout",
     "output_type": "stream",
     "text": [
      "[[  5  55 555]\n",
      " [  6  66 666]\n",
      " [  7  77 777]\n",
      " [  8  88 888]]\n",
      "int32\n"
     ]
    }
   ],
   "source": [
    "print(a)\n",
    "print(a.dtype)"
   ]
  },
  {
   "cell_type": "markdown",
   "id": "2872d363",
   "metadata": {},
   "source": [
    "##  Printing which type of data present inside numpy \n",
    "### dtype\n",
    "- You can also grab the data type of the object in the array\n",
    "- .dtype only works with numpy/array objects.array"
   ]
  },
  {
   "cell_type": "code",
   "execution_count": 9,
   "id": "4b24b519",
   "metadata": {},
   "outputs": [
    {
     "name": "stdout",
     "output_type": "stream",
     "text": [
      "<U5\n"
     ]
    }
   ],
   "source": [
    "r=np.array([\"Hi\",\"Hello\",\"Good\"])\n",
    "print(r.dtype)"
   ]
  },
  {
   "cell_type": "markdown",
   "id": "8198b859",
   "metadata": {},
   "source": [
    "## Built-in Methods"
   ]
  },
  {
   "cell_type": "markdown",
   "id": "57e26af2",
   "metadata": {},
   "source": [
    "## arange\n",
    "- generate array with (start,end,steps)\n",
    "- syntax : np.arange(start,end,steps)"
   ]
  },
  {
   "cell_type": "code",
   "execution_count": 10,
   "id": "f84a0c3b",
   "metadata": {},
   "outputs": [
    {
     "name": "stdout",
     "output_type": "stream",
     "text": [
      "[0]\n"
     ]
    }
   ],
   "source": [
    "a=np.arange(1)\n",
    "print(a)"
   ]
  },
  {
   "cell_type": "code",
   "execution_count": 11,
   "id": "84ecbcac",
   "metadata": {},
   "outputs": [
    {
     "name": "stdout",
     "output_type": "stream",
     "text": [
      "[ 5  6  7  8  9 10 11 12 13 14 15 16 17 18 19 20 21 22 23 24 25 26 27 28\n",
      " 29 30 31 32 33 34 35 36 37 38 39 40 41 42 43 44 45 46 47 48 49 50 51 52\n",
      " 53 54]\n"
     ]
    }
   ],
   "source": [
    "# with two parameter\n",
    "a=np.arange(5,55)\n",
    "print(a)"
   ]
  },
  {
   "cell_type": "code",
   "execution_count": 12,
   "id": "afb673f2",
   "metadata": {},
   "outputs": [
    {
     "name": "stdout",
     "output_type": "stream",
     "text": [
      "[ 1  3  5  7  9 11 13 15 17 19 21 23 25]\n"
     ]
    }
   ],
   "source": [
    "# with three parameter or stepping\n",
    "a=np.arange(1,26,2)\n",
    "print(a)"
   ]
  },
  {
   "cell_type": "markdown",
   "id": "ab795d39",
   "metadata": {},
   "source": [
    "## NumPy Zeros \n",
    "- Generate arrays of zeros "
   ]
  },
  {
   "cell_type": "code",
   "execution_count": 13,
   "id": "cbeebe4e",
   "metadata": {},
   "outputs": [
    {
     "name": "stdout",
     "output_type": "stream",
     "text": [
      "[[0 0 0 0 0 0 0 0 0]\n",
      " [0 0 0 0 0 0 0 0 0]\n",
      " [0 0 0 0 0 0 0 0 0]\n",
      " [0 0 0 0 0 0 0 0 0]\n",
      " [0 0 0 0 0 0 0 0 0]\n",
      " [0 0 0 0 0 0 0 0 0]\n",
      " [0 0 0 0 0 0 0 0 0]\n",
      " [0 0 0 0 0 0 0 0 0]]\n"
     ]
    }
   ],
   "source": [
    "x=np.zeros((8,9),dtype=\"int\")\n",
    "print(x)"
   ]
  },
  {
   "cell_type": "code",
   "execution_count": 14,
   "id": "573f9682",
   "metadata": {},
   "outputs": [
    {
     "name": "stdout",
     "output_type": "stream",
     "text": [
      "[[0. 0. 0. 0. 0.]\n",
      " [0. 0. 0. 0. 0.]\n",
      " [0. 0. 0. 0. 0.]\n",
      " [0. 0. 0. 0. 0.]\n",
      " [0. 0. 0. 0. 0.]]\n"
     ]
    }
   ],
   "source": [
    "print(np.zeros((5,5)))"
   ]
  },
  {
   "cell_type": "markdown",
   "id": "1a2155a9",
   "metadata": {},
   "source": [
    "## NumPy Ones\n",
    "- Generate arrays of ones "
   ]
  },
  {
   "cell_type": "code",
   "execution_count": 15,
   "id": "0aa52139",
   "metadata": {},
   "outputs": [
    {
     "name": "stdout",
     "output_type": "stream",
     "text": [
      "[[1 1 1 1 1 1 1 1 1]\n",
      " [1 1 1 1 1 1 1 1 1]\n",
      " [1 1 1 1 1 1 1 1 1]\n",
      " [1 1 1 1 1 1 1 1 1]\n",
      " [1 1 1 1 1 1 1 1 1]\n",
      " [1 1 1 1 1 1 1 1 1]\n",
      " [1 1 1 1 1 1 1 1 1]\n",
      " [1 1 1 1 1 1 1 1 1]]\n"
     ]
    }
   ],
   "source": [
    "print(np.ones((8,9),dtype=int))"
   ]
  },
  {
   "cell_type": "code",
   "execution_count": 16,
   "id": "11f69954",
   "metadata": {},
   "outputs": [
    {
     "name": "stdout",
     "output_type": "stream",
     "text": [
      "[[1. 1. 1. 1. 1.]\n",
      " [1. 1. 1. 1. 1.]\n",
      " [1. 1. 1. 1. 1.]\n",
      " [1. 1. 1. 1. 1.]\n",
      " [1. 1. 1. 1. 1.]]\n"
     ]
    }
   ],
   "source": [
    "x1=np.ones((5,5))\n",
    "print(x1)"
   ]
  },
  {
   "cell_type": "markdown",
   "id": "3d3bd2fd",
   "metadata": {},
   "source": [
    "## eye\n",
    "- Creates an identity matrix"
   ]
  },
  {
   "cell_type": "code",
   "execution_count": 17,
   "id": "615f8738",
   "metadata": {},
   "outputs": [
    {
     "name": "stdout",
     "output_type": "stream",
     "text": [
      "[[1 0 0 0 0 0 0 0 0 0]\n",
      " [0 1 0 0 0 0 0 0 0 0]\n",
      " [0 0 1 0 0 0 0 0 0 0]\n",
      " [0 0 0 1 0 0 0 0 0 0]\n",
      " [0 0 0 0 1 0 0 0 0 0]\n",
      " [0 0 0 0 0 1 0 0 0 0]\n",
      " [0 0 0 0 0 0 1 0 0 0]\n",
      " [0 0 0 0 0 0 0 1 0 0]\n",
      " [0 0 0 0 0 0 0 0 1 0]\n",
      " [0 0 0 0 0 0 0 0 0 1]]\n"
     ]
    }
   ],
   "source": [
    "print(np.eye(10,10,dtype='int'))"
   ]
  },
  {
   "cell_type": "code",
   "execution_count": 18,
   "id": "645ab501",
   "metadata": {},
   "outputs": [
    {
     "name": "stdout",
     "output_type": "stream",
     "text": [
      "[[333   0   0   0   0   0   0   0   0   0   0   0]\n",
      " [  0 333   0   0   0   0   0   0   0   0   0   0]\n",
      " [  0   0 333   0   0   0   0   0   0   0   0   0]\n",
      " [  0   0   0 333   0   0   0   0   0   0   0   0]\n",
      " [  0   0   0   0 333   0   0   0   0   0   0   0]\n",
      " [  0   0   0   0   0 333   0   0   0   0   0   0]\n",
      " [  0   0   0   0   0   0 333   0   0   0   0   0]\n",
      " [  0   0   0   0   0   0   0 333   0   0   0   0]\n",
      " [  0   0   0   0   0   0   0   0 333   0   0   0]\n",
      " [  0   0   0   0   0   0   0   0   0 333   0   0]\n",
      " [  0   0   0   0   0   0   0   0   0   0 333   0]\n",
      " [  0   0   0   0   0   0   0   0   0   0   0 333]]\n"
     ]
    }
   ],
   "source": [
    "print(np.eye(12, 12,dtype=int)*333)"
   ]
  },
  {
   "cell_type": "markdown",
   "id": "680e6bb9",
   "metadata": {},
   "source": [
    "## Random\n",
    "- to generate random number in numpy we use rand(no. of matrix,rows,columns)"
   ]
  },
  {
   "cell_type": "code",
   "execution_count": 19,
   "id": "02b0bcfc",
   "metadata": {},
   "outputs": [
    {
     "name": "stdout",
     "output_type": "stream",
     "text": [
      "[[[0.27147474 0.7366387  0.97302809]\n",
      "  [0.39231222 0.15690091 0.32671256]]\n",
      "\n",
      " [[0.94659058 0.056571   0.48185668]\n",
      "  [0.81452881 0.39348208 0.84616559]]]\n"
     ]
    }
   ],
   "source": [
    "print(np.random.rand(2,2,3))"
   ]
  },
  {
   "cell_type": "markdown",
   "id": "3dbecd6d",
   "metadata": {},
   "source": [
    "## randint\n",
    "- Return random integers from low (inclusive) to high (exclusive).\n",
    "- syntax: np.random.randint(start,end,size(row,col))"
   ]
  },
  {
   "cell_type": "code",
   "execution_count": 20,
   "id": "3a4effdf",
   "metadata": {},
   "outputs": [
    {
     "name": "stdout",
     "output_type": "stream",
     "text": [
      "16\n"
     ]
    }
   ],
   "source": [
    "import numpy as np\n",
    "print(np.random.randint(10,20))"
   ]
  },
  {
   "cell_type": "code",
   "execution_count": 21,
   "id": "b71ebcd2",
   "metadata": {},
   "outputs": [
    {
     "data": {
      "text/plain": [
       "array([[752, 681, 847, 870, 595],\n",
       "       [839, 747, 937, 901, 951],\n",
       "       [532, 882, 595, 771, 666],\n",
       "       [603, 871, 591, 633, 542],\n",
       "       [744, 755, 629, 552, 679],\n",
       "       [591, 787, 665, 584, 679],\n",
       "       [858, 675, 834, 844, 673]])"
      ]
     },
     "execution_count": 21,
     "metadata": {},
     "output_type": "execute_result"
    }
   ],
   "source": [
    "np.random.randint(500,1000,size=(7,5))"
   ]
  },
  {
   "cell_type": "markdown",
   "id": "30ff33a5",
   "metadata": {},
   "source": [
    "## Array Attributes and Methods"
   ]
  },
  {
   "cell_type": "code",
   "execution_count": 22,
   "id": "7a8c3aa9",
   "metadata": {},
   "outputs": [
    {
     "name": "stdout",
     "output_type": "stream",
     "text": [
      "[73 59 73 52 93 88 82 57 87 76 63 92 99 75 52 57 87 77 73 95 50 69 62 68\n",
      " 77]\n",
      "sorted numpy array : [ 0  1  2  3  4  5  6  7  8  9 10 11 12 13 14 15 16 17 18 19 20 21 22 23\n",
      " 24]\n"
     ]
    }
   ],
   "source": [
    "# creating numpy array using random function\n",
    "a=np.random.randint(50,100,25) \n",
    "print(a)\n",
    "\n",
    "# creating sorted numpy array using arange\n",
    "print(\"sorted numpy array :\",np.arange(25))"
   ]
  },
  {
   "cell_type": "markdown",
   "id": "bf5bab2a",
   "metadata": {},
   "source": [
    "## Reshape\n",
    "- Returns an array containing the same data with a new shape."
   ]
  },
  {
   "cell_type": "code",
   "execution_count": 23,
   "id": "956672fb",
   "metadata": {},
   "outputs": [
    {
     "name": "stdout",
     "output_type": "stream",
     "text": [
      "[[767 752 989 757 822 564]\n",
      " [510 738 930 683 847 863]]\n",
      "(2, 6) \n",
      "\n",
      "[[767 752]\n",
      " [989 757]\n",
      " [822 564]\n",
      " [510 738]\n",
      " [930 683]\n",
      " [847 863]]\n",
      "(6, 2)\n"
     ]
    }
   ],
   "source": [
    "si=np.random.randint(500,1000,size=(2,6))\n",
    "print(si)\n",
    "print(si.shape,\"\\n\")\n",
    "\n",
    "si=si.reshape(6,2)\n",
    "print(si)\n",
    "print(si.shape)"
   ]
  },
  {
   "cell_type": "markdown",
   "id": "0c6da186",
   "metadata": {},
   "source": [
    "## Max, Min, Argmax, Argmin\n",
    "- max : finds maximum value in array\n",
    "- min : finds minimum value in array\n",
    "- argmin : finds minimum value index in array\n",
    "- argmax : finds maximum value index in array"
   ]
  },
  {
   "cell_type": "code",
   "execution_count": 24,
   "id": "b1ce929f",
   "metadata": {},
   "outputs": [
    {
     "data": {
      "text/plain": [
       "array([75, 59, 58, 62, 89, 51, 99, 92, 65, 72, 57, 52, 77, 58, 60, 67, 57,\n",
       "       81, 73, 82, 69, 87, 81, 85, 70])"
      ]
     },
     "execution_count": 24,
     "metadata": {},
     "output_type": "execute_result"
    }
   ],
   "source": [
    "ranarr = np.random.randint(50,100,25)   #(start, end, no. of elements)\n",
    "ranarr"
   ]
  },
  {
   "cell_type": "code",
   "execution_count": 25,
   "id": "be0ead52",
   "metadata": {},
   "outputs": [
    {
     "data": {
      "text/plain": [
       "99"
      ]
     },
     "execution_count": 25,
     "metadata": {},
     "output_type": "execute_result"
    }
   ],
   "source": [
    "ranarr.max()#Prints the maximum Number"
   ]
  },
  {
   "cell_type": "code",
   "execution_count": 26,
   "id": "2bb647be",
   "metadata": {},
   "outputs": [
    {
     "data": {
      "text/plain": [
       "51"
      ]
     },
     "execution_count": 26,
     "metadata": {},
     "output_type": "execute_result"
    }
   ],
   "source": [
    "ranarr.min()#Prints the minimum Number"
   ]
  },
  {
   "cell_type": "code",
   "execution_count": 27,
   "id": "546c1d6a",
   "metadata": {},
   "outputs": [
    {
     "data": {
      "text/plain": [
       "5"
      ]
     },
     "execution_count": 27,
     "metadata": {},
     "output_type": "execute_result"
    }
   ],
   "source": [
    "#It prints the index position of minimum number\n",
    "ranarr.argmin()"
   ]
  },
  {
   "cell_type": "markdown",
   "id": "ea395cf0",
   "metadata": {},
   "source": [
    "## NumPy Indexing and Selection\n",
    "- indexing : a[7]\n",
    "- slicing : a [ no. of rows start : no. of rows end, no. of col start :  no. of col end ]"
   ]
  },
  {
   "cell_type": "code",
   "execution_count": 28,
   "id": "7c411a71",
   "metadata": {},
   "outputs": [
    {
     "name": "stdout",
     "output_type": "stream",
     "text": [
      "[[   1    2    4   56   65 6778]\n",
      " [   1    2   40  156  615 6778]]\n"
     ]
    }
   ],
   "source": [
    "# creating numpy array\n",
    "a=np.array([[1,2,4,56,65,6778],[1,2,40,156,615,6778]])\n",
    "print(a)"
   ]
  },
  {
   "cell_type": "code",
   "execution_count": 29,
   "id": "23ed1a90",
   "metadata": {},
   "outputs": [
    {
     "name": "stdout",
     "output_type": "stream",
     "text": [
      "[   1    2   40  156  615 6778]\n"
     ]
    }
   ],
   "source": [
    "# indexing \n",
    "print(a[1])"
   ]
  },
  {
   "cell_type": "code",
   "execution_count": 30,
   "id": "569c04be",
   "metadata": {},
   "outputs": [
    {
     "name": "stdout",
     "output_type": "stream",
     "text": [
      "[[   1    2    4   56   65 6778]\n",
      " [   1    2   40  156  615 6778]]\n",
      "[   2   56 6778]\n"
     ]
    }
   ],
   "source": [
    "#a[rows slicing, column slicing]\n",
    "print(a[:,:])\n",
    "\n",
    "print(a[0,[1,3,5]])"
   ]
  },
  {
   "cell_type": "code",
   "execution_count": 31,
   "id": "17e861d4",
   "metadata": {},
   "outputs": [
    {
     "data": {
      "text/plain": [
       "array([ 0,  1,  2,  3,  4,  5,  6,  7,  8,  9, 10, 11, 12, 13, 14, 15, 16,\n",
       "       17, 18, 19, 20, 21, 22, 23, 24, 25, 26, 27, 28, 29, 30, 31, 32, 33,\n",
       "       34, 35, 36, 37, 38, 39, 40, 41, 42, 43, 44, 45, 46, 47, 48, 49])"
      ]
     },
     "execution_count": 31,
     "metadata": {},
     "output_type": "execute_result"
    }
   ],
   "source": [
    "#Creating sample array\n",
    "arr=np.arange(0,50)\n",
    "arr"
   ]
  },
  {
   "cell_type": "code",
   "execution_count": null,
   "id": "20a4b500",
   "metadata": {},
   "outputs": [],
   "source": []
  },
  {
   "cell_type": "code",
   "execution_count": 32,
   "id": "d74e7610",
   "metadata": {},
   "outputs": [
    {
     "data": {
      "text/plain": [
       "49"
      ]
     },
     "execution_count": 32,
     "metadata": {},
     "output_type": "execute_result"
    }
   ],
   "source": [
    "arr[-1]"
   ]
  },
  {
   "cell_type": "code",
   "execution_count": 33,
   "id": "7e4baf1f",
   "metadata": {},
   "outputs": [
    {
     "name": "stdout",
     "output_type": "stream",
     "text": [
      "0\n",
      "49\n"
     ]
    },
    {
     "data": {
      "text/plain": [
       "array([11, 12, 13, 14, 15, 16, 17, 18, 19, 20, 21, 22, 23, 24, 25, 26, 27,\n",
       "       28, 29, 30, 31, 32, 33, 34, 35, 36, 37, 38, 39, 40, 41, 42, 43, 44,\n",
       "       45, 46, 47, 48, 49])"
      ]
     },
     "execution_count": 33,
     "metadata": {},
     "output_type": "execute_result"
    }
   ],
   "source": [
    "# indexing of array \n",
    "print(arr[0])\n",
    "arr[33]\n",
    "\n",
    "print(arr[-1])\n",
    "arr[3:7]\n",
    "arr[:10]\n",
    "arr[11:]"
   ]
  },
  {
   "cell_type": "markdown",
   "id": "c3cc4bf1",
   "metadata": {},
   "source": [
    "## Bracket Indexing and Selection\n",
    "- The simplest way to pick one or some elements of an array looks very similar to python lists\n",
    "- syntax: arr[start:end]"
   ]
  },
  {
   "cell_type": "code",
   "execution_count": 34,
   "id": "c09ac77d",
   "metadata": {},
   "outputs": [
    {
     "name": "stdout",
     "output_type": "stream",
     "text": [
      "[42 43 44 45 46 47 48 49] \n",
      "\n",
      "[36 37 38 39 40 41 42 43 44 45 46 47 48 49] \n",
      "\n"
     ]
    }
   ],
   "source": [
    "#Get values in a range\n",
    "#92:145\n",
    "print(arr[42:96],\"\\n\")\n",
    "\n",
    "#86:136\n",
    "print(arr[36:87],\"\\n\")"
   ]
  },
  {
   "cell_type": "code",
   "execution_count": 35,
   "id": "2cdca270",
   "metadata": {},
   "outputs": [
    {
     "data": {
      "text/plain": [
       "29"
      ]
     },
     "execution_count": 35,
     "metadata": {},
     "output_type": "execute_result"
    }
   ],
   "source": [
    "## Get values in a range\n",
    "arr[0:5]\n",
    "arr[-21]"
   ]
  },
  {
   "cell_type": "code",
   "execution_count": 36,
   "id": "17b17d5d",
   "metadata": {},
   "outputs": [
    {
     "name": "stdout",
     "output_type": "stream",
     "text": [
      "[49 48 47 46 45 44 43 42 41 40 39 38 37 36 35 34 33 32 31 30 29 28 27 26\n",
      " 25 24 23 22 21 20 19 18 17 16 15 14 13 12 11 10  9  8  7  6  5  4  3  2\n",
      "  1  0] \n",
      "\n",
      "[49 48 47 46 45 44 43 42 41 40 39 38 37 36 35 34 33 32 31 30]\n"
     ]
    }
   ],
   "source": [
    "# reverse\n",
    "\n",
    "print(arr[::-1],\"\\n\")\n",
    "\n",
    "print(arr[:-21:-1])"
   ]
  },
  {
   "cell_type": "markdown",
   "id": "92aa17df",
   "metadata": {},
   "source": [
    "## Broadcasting\n",
    "- Numpy arrays differ from a normal Python list because of their ability to broadcast:"
   ]
  },
  {
   "cell_type": "code",
   "execution_count": 37,
   "id": "fcae360a",
   "metadata": {},
   "outputs": [
    {
     "data": {
      "text/plain": [
       "array([ 1,  2,  3,  4,  5,  6,  7,  8,  9, 10, 11, 12, 13, 14])"
      ]
     },
     "execution_count": 37,
     "metadata": {},
     "output_type": "execute_result"
    }
   ],
   "source": [
    "#Setting a value with index range (Broadcasting)\n",
    "import numpy as np\n",
    "arr=np.arange(1,15)\n",
    "#Show\n",
    "arr"
   ]
  },
  {
   "cell_type": "code",
   "execution_count": 38,
   "id": "1891583b",
   "metadata": {},
   "outputs": [
    {
     "data": {
      "text/plain": [
       "array([1, 2, 3, 4, 5, 6])"
      ]
     },
     "execution_count": 38,
     "metadata": {},
     "output_type": "execute_result"
    }
   ],
   "source": [
    "#Single value replacing\n",
    "new=arr[0:6]\n",
    "new"
   ]
  },
  {
   "cell_type": "code",
   "execution_count": 39,
   "id": "bf88d723",
   "metadata": {},
   "outputs": [
    {
     "name": "stdout",
     "output_type": "stream",
     "text": [
      "[  1   2   3   4   5 555]\n"
     ]
    },
    {
     "data": {
      "text/plain": [
       "array([  1,   2,   3,   4,   5, 555,   7,   8,   9,  10,  11,  12,  13,\n",
       "        14])"
      ]
     },
     "execution_count": 39,
     "metadata": {},
     "output_type": "execute_result"
    }
   ],
   "source": [
    "new[5]=555\n",
    "print(new)\n",
    "arr"
   ]
  },
  {
   "cell_type": "code",
   "execution_count": 40,
   "id": "d86c3eb7",
   "metadata": {},
   "outputs": [
    {
     "name": "stdout",
     "output_type": "stream",
     "text": [
      "2781678354480\n",
      "2781678354672\n"
     ]
    }
   ],
   "source": [
    "# returns every object's “identity.\n",
    "print(id(arr))\n",
    "print(id(new))\n"
   ]
  },
  {
   "cell_type": "markdown",
   "id": "c13099ca",
   "metadata": {},
   "source": [
    "#### Now note the changes also occur in our original array!"
   ]
  },
  {
   "cell_type": "code",
   "execution_count": 41,
   "id": "1db328d1",
   "metadata": {},
   "outputs": [
    {
     "name": "stdout",
     "output_type": "stream",
     "text": [
      "[  1   2   3   4   5 555   7   8   9  10] \n",
      "\n",
      "[555 555 555 555 555 555 555 555 555 555] \n",
      "\n",
      "[  1   2   3   4   5 555   7   8   9  10  11  12  13  14]\n"
     ]
    }
   ],
   "source": [
    "arr_new=np.copy(arr[0:10])\n",
    "\n",
    "print(arr_new,\"\\n\")\n",
    "\n",
    "arr_new[:]=555\n",
    "print(arr_new,\"\\n\")\n",
    "print(arr)"
   ]
  },
  {
   "cell_type": "code",
   "execution_count": 42,
   "id": "9d39bf2b",
   "metadata": {},
   "outputs": [
    {
     "name": "stdout",
     "output_type": "stream",
     "text": [
      "2781678354480\n",
      "2781678166736\n"
     ]
    }
   ],
   "source": [
    "print(id(arr))\n",
    "print(id(arr_new))"
   ]
  },
  {
   "cell_type": "markdown",
   "id": "d1c29f50",
   "metadata": {},
   "source": [
    "#### Data is not copied, it's a view of the original array! This avoids memory problems!"
   ]
  },
  {
   "cell_type": "code",
   "execution_count": 43,
   "id": "026f9a0c",
   "metadata": {},
   "outputs": [
    {
     "data": {
      "text/plain": [
       "array([55, 55, 55, 55, 55, 55, 55, 55, 55, 55, 55, 55, 55, 55, 55, 55, 55,\n",
       "       55, 55, 55])"
      ]
     },
     "execution_count": 43,
     "metadata": {},
     "output_type": "execute_result"
    }
   ],
   "source": [
    "#To get a copy, need to be explicit\n",
    "arr=np.arange(80,100)\n",
    "arr\n",
    "arr_copy = arr.copy()\n",
    "arr_copy=arr_copy[0:20]\n",
    "arr_copy[:]=55\n",
    "arr_copy"
   ]
  },
  {
   "cell_type": "markdown",
   "id": "6b54848f",
   "metadata": {},
   "source": [
    "## Indexing a 2D array (matrices)"
   ]
  },
  {
   "cell_type": "code",
   "execution_count": 44,
   "id": "647aca1c",
   "metadata": {},
   "outputs": [
    {
     "name": "stdout",
     "output_type": "stream",
     "text": [
      "[ 1  2  3  4  5  6  7  8  9 10 11 12 13 14 15 16 17 18 19 20 21 22 23 24\n",
      " 25 26 27 28 29 30]\n"
     ]
    },
    {
     "data": {
      "text/plain": [
       "array([[ 1,  2,  3,  4,  5,  6],\n",
       "       [ 7,  8,  9, 10, 11, 12],\n",
       "       [13, 14, 15, 16, 17, 18],\n",
       "       [19, 20, 21, 22, 23, 24],\n",
       "       [25, 26, 27, 28, 29, 30]])"
      ]
     },
     "execution_count": 44,
     "metadata": {},
     "output_type": "execute_result"
    }
   ],
   "source": [
    "import numpy as np\n",
    "\n",
    "zxc=np.arange(1,31)\n",
    "print(zxc)\n",
    "zxc=zxc.reshape(5,6)\n",
    "zxc"
   ]
  },
  {
   "cell_type": "code",
   "execution_count": 45,
   "id": "b34d1a3e",
   "metadata": {},
   "outputs": [
    {
     "data": {
      "text/plain": [
       "array([23, 25, 28])"
      ]
     },
     "execution_count": 45,
     "metadata": {},
     "output_type": "execute_result"
    }
   ],
   "source": [
    "#23,25,28\n",
    "zxc[[3,4,4],[4,0,3]]"
   ]
  },
  {
   "cell_type": "code",
   "execution_count": 46,
   "id": "1593b878",
   "metadata": {},
   "outputs": [
    {
     "data": {
      "text/plain": [
       "array([10, 17, 29, 26, 19, 10])"
      ]
     },
     "execution_count": 46,
     "metadata": {},
     "output_type": "execute_result"
    }
   ],
   "source": [
    "zxc[2,2]\n",
    "#zxc[\"row\",\"column\"]\n",
    "zxc[3,5]\n",
    "zxc[4,5]\n",
    "\n",
    "#10,17,29,26,19\n",
    "zxc[[1,2,4,4,3,1],[3,4,4,1,0,3]]\n",
    "#zxc[[row1,row2,row3,row4],[col1,col2,col3,col4]]"
   ]
  },
  {
   "cell_type": "code",
   "execution_count": 47,
   "id": "81ddbf36",
   "metadata": {},
   "outputs": [
    {
     "data": {
      "text/plain": [
       "array([217, 227, 229, 244])"
      ]
     },
     "execution_count": 47,
     "metadata": {},
     "output_type": "execute_result"
    }
   ],
   "source": [
    "#Exercise\n",
    "abc=np.arange(200,250).reshape(10,5)\n",
    "abc\n",
    "\n",
    "#Find 217,227,229,244,211,233,245,248,222,225,202\n",
    "\n",
    "abc[[3,5,5,8],[2,2,4,4]]"
   ]
  },
  {
   "cell_type": "code",
   "execution_count": 48,
   "id": "b7237161",
   "metadata": {},
   "outputs": [
    {
     "data": {
      "text/plain": [
       "array([217, 227, 229, 244, 211, 233, 245, 248, 222, 225, 202])"
      ]
     },
     "execution_count": 48,
     "metadata": {},
     "output_type": "execute_result"
    }
   ],
   "source": [
    "abc[[3,5,5,8,2,6,9,9,4,5,0],[2,2,4,4,1,3,0,3,2,0,2]]"
   ]
  },
  {
   "cell_type": "code",
   "execution_count": 49,
   "id": "edac104f",
   "metadata": {},
   "outputs": [
    {
     "data": {
      "text/plain": [
       "array([[ 1,  2,  3,  4,  5,  6],\n",
       "       [ 7,  8,  9, 10, 11, 12],\n",
       "       [13, 14, 15, 16, 17, 18],\n",
       "       [19, 20, 21, 22, 23, 24],\n",
       "       [25, 26, 27, 28, 29, 30]])"
      ]
     },
     "execution_count": 49,
     "metadata": {},
     "output_type": "execute_result"
    }
   ],
   "source": [
    "zxc"
   ]
  },
  {
   "cell_type": "code",
   "execution_count": 50,
   "id": "de69c1bf",
   "metadata": {},
   "outputs": [
    {
     "name": "stdout",
     "output_type": "stream",
     "text": [
      "[[ 1  2]\n",
      " [ 7  8]\n",
      " [13 14]\n",
      " [19 20]] \n",
      "\n"
     ]
    },
    {
     "data": {
      "text/plain": [
       "array([[ 6,  1,  5,  4,  2,  3],\n",
       "       [12,  7, 11, 10,  8,  9],\n",
       "       [18, 13, 17, 16, 14, 15],\n",
       "       [24, 19, 23, 22, 20, 21],\n",
       "       [30, 25, 29, 28, 26, 27]])"
      ]
     },
     "execution_count": 50,
     "metadata": {},
     "output_type": "execute_result"
    }
   ],
   "source": [
    "print(zxc[0:4,0:2],\"\\n\")#only Columns\n",
    "zxc[0:2,0:3]\n",
    "zxc[[1,4],:]#Only rows\n",
    "\n",
    "zxc[:,[5,0,4,3,1,2]]\n",
    "\n",
    "#zxc[[2,3],:]\n",
    "#zxc"
   ]
  },
  {
   "cell_type": "markdown",
   "id": "3a23be5a",
   "metadata": {},
   "source": [
    "### Fancy indexing allows the following"
   ]
  },
  {
   "cell_type": "code",
   "execution_count": 51,
   "id": "4c2eb938",
   "metadata": {},
   "outputs": [
    {
     "data": {
      "text/plain": [
       "array([[ 0,  1,  2,  3,  4,  5,  6,  7,  8,  9],\n",
       "       [10, 11, 12, 13, 14, 15, 16, 17, 18, 19],\n",
       "       [20, 21, 22, 23, 24, 25, 26, 27, 28, 29],\n",
       "       [30, 31, 32, 33, 34, 35, 36, 37, 38, 39],\n",
       "       [40, 41, 42, 43, 44, 45, 46, 47, 48, 49],\n",
       "       [50, 51, 52, 53, 54, 55, 56, 57, 58, 59],\n",
       "       [60, 61, 62, 63, 64, 65, 66, 67, 68, 69],\n",
       "       [70, 71, 72, 73, 74, 75, 76, 77, 78, 79],\n",
       "       [80, 81, 82, 83, 84, 85, 86, 87, 88, 89],\n",
       "       [90, 91, 92, 93, 94, 95, 96, 97, 98, 99]])"
      ]
     },
     "execution_count": 51,
     "metadata": {},
     "output_type": "execute_result"
    }
   ],
   "source": [
    "abc=np.arange(0,100).reshape(10,10)\n",
    "abc"
   ]
  },
  {
   "cell_type": "code",
   "execution_count": 52,
   "id": "01c0e97e",
   "metadata": {},
   "outputs": [
    {
     "name": "stdout",
     "output_type": "stream",
     "text": [
      "[[60 61 62 63 64 65 66 67 68 69]\n",
      " [40 41 42 43 44 45 46 47 48 49]\n",
      " [20 21 22 23 24 25 26 27 28 29]\n",
      " [70 71 72 73 74 75 76 77 78 79]] \n",
      "\n",
      "[[ 4  2  3]\n",
      " [14 12 13]\n",
      " [24 22 23]\n",
      " [34 32 33]\n",
      " [44 42 43]\n",
      " [54 52 53]\n",
      " [64 62 63]\n",
      " [74 72 73]\n",
      " [84 82 83]\n",
      " [94 92 93]] \n",
      "\n",
      "[[60 61 62 63 64 65 66 67 68 69]\n",
      " [70 71 72 73 74 75 76 77 78 79]\n",
      " [80 81 82 83 84 85 86 87 88 89]]\n"
     ]
    }
   ],
   "source": [
    "#Allows in any order\n",
    "print(abc[[6,4,2,7]],\"\\n\")#Extracting any Desired Row With Respect to Index Position Number\n",
    "\n",
    "\n",
    "print(abc[:,[4,2,3]],\"\\n\")#Extracting any Desired Column with Respect to Index Position Number\n",
    "print(abc[[6,7,8],:])\n",
    "#abc"
   ]
  },
  {
   "cell_type": "code",
   "execution_count": 53,
   "id": "7f88db49",
   "metadata": {},
   "outputs": [
    {
     "name": "stdout",
     "output_type": "stream",
     "text": [
      "[29 39 49 59 69]\n",
      "[90 91 92 93 94 95 96 97]\n",
      "[50 51 52 53 54 55]\n"
     ]
    }
   ],
   "source": [
    "print(abc[2:7,9])\n",
    "#90-97\n",
    "print(abc[9,:8])\n",
    "#abc[row_start:row_end,column]\n",
    "\n",
    "print(abc[5,:6])"
   ]
  },
  {
   "cell_type": "markdown",
   "id": "000a8cfc",
   "metadata": {},
   "source": [
    "## Selection\n",
    "- Let's briefly go over how to use brackets for selection based off of comparison operators."
   ]
  },
  {
   "cell_type": "code",
   "execution_count": 54,
   "id": "7a8d9da7",
   "metadata": {},
   "outputs": [
    {
     "name": "stdout",
     "output_type": "stream",
     "text": [
      "1\n",
      "2\n",
      "3\n",
      "4\n",
      "5\n",
      "\n",
      " [1, 2, 3, 4, 5] \n",
      "\n",
      "[ 1  2  3  4  5  6  7  8  9 10 11 12 13 14 15 16 17 18 19 20]\n"
     ]
    }
   ],
   "source": [
    "import numpy as np\n",
    "arr = np.arange(1,21)\n",
    "\n",
    "ss=[]\n",
    "\n",
    "for i in arr:\n",
    "    if i <=5:\n",
    "        print(i)\n",
    "        ss.append(i)\n",
    "print('\\n',ss,\"\\n\")\n",
    "print(arr)"
   ]
  },
  {
   "cell_type": "code",
   "execution_count": 55,
   "id": "4c84463f",
   "metadata": {},
   "outputs": [
    {
     "data": {
      "text/plain": [
       "array([ 2,  4,  6,  8, 10])"
      ]
     },
     "execution_count": 55,
     "metadata": {},
     "output_type": "execute_result"
    }
   ],
   "source": [
    "# single condition \n",
    "arr[(arr<=10) & (arr%2==0)]\n",
    "\n",
    "#arr[arr>=5]\n",
    "\n",
    "\n",
    "# multiple condition\n",
    "#arr[(arr>=5) & (arr<=15)]"
   ]
  },
  {
   "cell_type": "code",
   "execution_count": 56,
   "id": "9ec2ca69",
   "metadata": {},
   "outputs": [],
   "source": [
    "arr[arr >= 4]\n",
    "\n",
    "bool_arr=arr>=4"
   ]
  },
  {
   "cell_type": "code",
   "execution_count": 57,
   "id": "d6b149d7",
   "metadata": {},
   "outputs": [
    {
     "data": {
      "text/plain": [
       "array([False, False, False,  True,  True,  True,  True,  True,  True,\n",
       "        True,  True,  True,  True,  True,  True,  True,  True,  True,\n",
       "        True,  True])"
      ]
     },
     "execution_count": 57,
     "metadata": {},
     "output_type": "execute_result"
    }
   ],
   "source": [
    "bool_arr"
   ]
  },
  {
   "cell_type": "code",
   "execution_count": 58,
   "id": "3a65b7f1",
   "metadata": {},
   "outputs": [
    {
     "name": "stdout",
     "output_type": "stream",
     "text": [
      "[ 4  5  6  7  8  9 10 11 12 13 14 15 16 17 18 19 20] \n",
      "\n",
      "[ 4  5  6  7  8  9 10 11 12 13 14 15 16 17 18 19 20]\n"
     ]
    }
   ],
   "source": [
    "print(arr[bool_arr],\"\\n\")\n",
    "\n",
    "print(arr[arr >= 4])"
   ]
  },
  {
   "cell_type": "code",
   "execution_count": 59,
   "id": "b7db3b7a",
   "metadata": {},
   "outputs": [
    {
     "data": {
      "text/plain": [
       "array([ 3,  4,  5,  6,  7,  8,  9, 10, 11, 12, 13, 14, 15, 16, 17, 18, 19,\n",
       "       20])"
      ]
     },
     "execution_count": 59,
     "metadata": {},
     "output_type": "execute_result"
    }
   ],
   "source": [
    "arr[arr>2]"
   ]
  },
  {
   "cell_type": "code",
   "execution_count": 60,
   "id": "7656c7a2",
   "metadata": {},
   "outputs": [
    {
     "data": {
      "text/plain": [
       "array([ 3,  4,  5,  6,  7,  8,  9, 10, 11, 12, 13, 14, 15, 16, 17, 18, 19,\n",
       "       20])"
      ]
     },
     "execution_count": 60,
     "metadata": {},
     "output_type": "execute_result"
    }
   ],
   "source": [
    "x = 2\n",
    "arr[arr>x]"
   ]
  }
 ],
 "metadata": {
  "kernelspec": {
   "display_name": "Python 3 (ipykernel)",
   "language": "python",
   "name": "python3"
  },
  "language_info": {
   "codemirror_mode": {
    "name": "ipython",
    "version": 3
   },
   "file_extension": ".py",
   "mimetype": "text/x-python",
   "name": "python",
   "nbconvert_exporter": "python",
   "pygments_lexer": "ipython3",
   "version": "3.9.7"
  }
 },
 "nbformat": 4,
 "nbformat_minor": 5
}
